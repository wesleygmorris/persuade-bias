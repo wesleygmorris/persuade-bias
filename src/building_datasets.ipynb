{
 "cells": [
  {
   "cell_type": "markdown",
   "id": "833cdd16-7e02-4aac-bd74-e320c846254d",
   "metadata": {
    "tags": []
   },
   "source": [
    "# Generate training datasets divided by race/ethnicity"
   ]
  },
  {
   "cell_type": "code",
   "execution_count": 1,
   "id": "b10572f2-d95b-4057-85c0-f47f3d8649b7",
   "metadata": {
    "tags": []
   },
   "outputs": [],
   "source": [
    "import pandas as pd\n",
    "from datasets import load_dataset, load_metric, Dataset, Value, ClassLabel, Features, DatasetDict"
   ]
  },
  {
   "cell_type": "code",
   "execution_count": 2,
   "id": "0eff7ecc-3194-4ea2-a256-48a108695bce",
   "metadata": {
    "tags": []
   },
   "outputs": [],
   "source": [
    "DATA = '../data/'\n",
    "seed = 42"
   ]
  },
  {
   "cell_type": "markdown",
   "id": "bb3660a1-e147-45a3-baee-6cef0f8987d7",
   "metadata": {},
   "source": [
    "## Convert the raw data so there is one essay per row"
   ]
  },
  {
   "cell_type": "code",
   "execution_count": 3,
   "id": "02f60588-b71b-4404-af1b-1810fae1120c",
   "metadata": {
    "tags": []
   },
   "outputs": [],
   "source": [
    "raw_df = pd.read_csv(DATA + 'persuade_corpus_raw.csv', low_memory=False, index_col=0)"
   ]
  },
  {
   "cell_type": "code",
   "execution_count": 4,
   "id": "8f51fdb1-3abd-42ef-824e-1aba336b0789",
   "metadata": {
    "tags": []
   },
   "outputs": [
    {
     "data": {
      "text/plain": [
       "Does the electoral college work?    22306\n",
       "Car-free cities                     20834\n",
       "Driverless cars                     20130\n",
       "Facial action coding system         19255\n",
       "Exploring Venus                     15628\n",
       "The Face on Mars                    15027\n",
       "\"A Cowboy Who Rode the Waves\"       12963\n",
       "Name: prompt_name, dtype: int64"
      ]
     },
     "execution_count": 4,
     "metadata": {},
     "output_type": "execute_result"
    }
   ],
   "source": [
    "raw_df[raw_df['task'] == 'Text dependent'].prompt_name.value_counts()"
   ]
  },
  {
   "cell_type": "code",
   "execution_count": 5,
   "id": "2838573f-d38c-4567-a5b2-2265b17df9ca",
   "metadata": {
    "tags": []
   },
   "outputs": [
    {
     "data": {
      "text/plain": [
       "Independent       159240\n",
       "Text dependent    126143\n",
       "Name: task, dtype: int64"
      ]
     },
     "execution_count": 5,
     "metadata": {},
     "output_type": "execute_result"
    }
   ],
   "source": [
    "raw_df.task.value_counts()"
   ]
  },
  {
   "cell_type": "code",
   "execution_count": 6,
   "id": "114c8ac8-07a7-4b11-a183-d10556eb575a",
   "metadata": {
    "tags": []
   },
   "outputs": [],
   "source": [
    "essays_df = raw_df[['essay_id', 'holistic_score_1', 'holistic_score_2', 'holistic_score_adjudicated',\n",
    "                    'full_text', 'source', 'source_text', 'prompt_name', 'task', 'assignment', 'gender', \n",
    "                    'grade', 'ell', 'race_ethnicity', 'economically_disadvantaged', 'student_disability_status',]].drop_duplicates()"
   ]
  },
  {
   "cell_type": "code",
   "execution_count": 7,
   "id": "17ce8f2e-37ec-4f39-b458-8f295c980979",
   "metadata": {
    "tags": []
   },
   "outputs": [
    {
     "data": {
      "text/plain": [
       "White                             11571\n",
       "Hispanic/Latino                    6560\n",
       "Black/African American             4959\n",
       "Asian/Pacific Islander             1743\n",
       "Two or more races/Other            1022\n",
       "American Indian/Alaskan Native      141\n",
       "Name: race_ethnicity, dtype: int64"
      ]
     },
     "execution_count": 7,
     "metadata": {},
     "output_type": "execute_result"
    }
   ],
   "source": [
    "essays_df['race_ethnicity'].value_counts()"
   ]
  },
  {
   "cell_type": "code",
   "execution_count": 8,
   "id": "7d5fa91c-e4d1-4197-947b-7bbb3bb652c2",
   "metadata": {
    "tags": []
   },
   "outputs": [],
   "source": [
    "essays_df.to_csv(DATA + 'persuade_corpus.csv')"
   ]
  },
  {
   "cell_type": "code",
   "execution_count": 9,
   "id": "5e009f8b-0b17-4ec0-bb69-73c771e5c0a6",
   "metadata": {
    "tags": []
   },
   "outputs": [],
   "source": [
    "essays_df['full_text'] = essays_df['full_text'].apply(lambda x: x.strip())"
   ]
  },
  {
   "cell_type": "markdown",
   "id": "ad6c71be-2547-4026-9738-29480e0d9662",
   "metadata": {},
   "source": [
    "## Sample based on race/ethnicity"
   ]
  },
  {
   "cell_type": "code",
   "execution_count": 10,
   "id": "7b7660e0-daaa-4873-b3e3-1cbf6ee69694",
   "metadata": {
    "tags": []
   },
   "outputs": [],
   "source": [
    "white_sample = essays_df[essays_df['race_ethnicity'] == 'White'].sample(n=4000, random_state=seed)\n",
    "baa_sample = essays_df[essays_df['race_ethnicity'] == 'Black/African American'].sample(n=4000, random_state=seed)\n",
    "hl_sample = essays_df[essays_df['race_ethnicity'] == 'Hispanic/Latino'].sample(n=4000, random_state=seed)\n",
    "control_sample = pd.concat([white_sample.sample(n=1333, random_state=seed),baa_sample.sample(n=1333, random_state=seed),\n",
    "                           hl_sample.sample(n=1333, random_state=seed)], axis=0)"
   ]
  },
  {
   "cell_type": "markdown",
   "id": "b65174c6-feab-4893-b40d-6ec088e841d3",
   "metadata": {},
   "source": [
    "### Remove the training data from the test set"
   ]
  },
  {
   "cell_type": "code",
   "execution_count": 11,
   "id": "74162c15-c5f4-4566-a18d-bdf99bbbe515",
   "metadata": {
    "tags": []
   },
   "outputs": [
    {
     "data": {
      "text/plain": [
       "12000"
      ]
     },
     "execution_count": 11,
     "metadata": {},
     "output_type": "execute_result"
    }
   ],
   "source": [
    "indexes_to_remove = white_sample.index.to_list() + baa_sample.index.to_list() + hl_sample.index.to_list()\n",
    "len(indexes_to_remove)"
   ]
  },
  {
   "cell_type": "code",
   "execution_count": 12,
   "id": "5d7e5dd0-d978-4b6a-ae3d-d84f22f6afae",
   "metadata": {
    "tags": []
   },
   "outputs": [
    {
     "name": "stdout",
     "output_type": "stream",
     "text": [
      "12000\n"
     ]
    }
   ],
   "source": [
    "essays_without_training = essays_df.drop(index=indexes_to_remove)\n",
    "print(len(essays_df)-len(essays_without_training))"
   ]
  },
  {
   "cell_type": "markdown",
   "id": "85c816f5-b4d9-44aa-a36f-392fc677ecd6",
   "metadata": {},
   "source": [
    "### Downsample to get a test set"
   ]
  },
  {
   "cell_type": "code",
   "execution_count": 13,
   "id": "0dcafab5-8da9-4c07-af14-cae0a6735cd2",
   "metadata": {
    "tags": []
   },
   "outputs": [],
   "source": [
    "race_ethnicities = ['White', 'Hispanic/Latino', 'Black/African American', 'Asian/Pacific Islander', 'Two or more races/Other']\n",
    "df_list = [essays_without_training[essays_without_training['race_ethnicity'] == race].sample(n=959, random_state=seed) for race in race_ethnicities]\n",
    "test_df = pd.concat(df_list, axis=0)    "
   ]
  },
  {
   "cell_type": "markdown",
   "id": "63f3f268-4764-445e-8927-35921d5f2b44",
   "metadata": {},
   "source": [
    "## Build the four datasets\n",
    "\n",
    "I think the \"test\" set here is actually a development/validation set, right?"
   ]
  },
  {
   "cell_type": "code",
   "execution_count": 16,
   "id": "9989ec67-4267-45a8-b7f4-85a4050bf110",
   "metadata": {
    "tags": []
   },
   "outputs": [],
   "source": [
    "def buildDataset(df):\n",
    "    df = df[['full_text', 'holistic_score_adjudicated']]\n",
    "    df['holistic_score_adjudicated'] = df['holistic_score_adjudicated'].astype(float)\n",
    "    df.columns = ['text', 'label']\n",
    "    full_dataset = Dataset.from_pandas(df, preserve_index=False)\n",
    "    # 70% train, 30% test\n",
    "    train_valid = full_dataset.train_test_split(test_size=0.2, seed=seed)\n",
    "    # gather everyone if you want to have a single DatasetDict\n",
    "    final_dataset = DatasetDict({\n",
    "        'train': train_valid['train'],\n",
    "        'valid': train_valid['test']})\n",
    "    return final_dataset"
   ]
  },
  {
   "cell_type": "code",
   "execution_count": 17,
   "id": "32958fe0-e887-4dad-94f0-82ec5357cf7b",
   "metadata": {
    "tags": []
   },
   "outputs": [
    {
     "name": "stderr",
     "output_type": "stream",
     "text": [
      "/tmp/ipykernel_4549/3502563414.py:3: SettingWithCopyWarning: \n",
      "A value is trying to be set on a copy of a slice from a DataFrame.\n",
      "Try using .loc[row_indexer,col_indexer] = value instead\n",
      "\n",
      "See the caveats in the documentation: https://pandas.pydata.org/pandas-docs/stable/user_guide/indexing.html#returning-a-view-versus-a-copy\n",
      "  df['holistic_score_adjudicated'] = df['holistic_score_adjudicated'].astype(float)\n",
      "/tmp/ipykernel_4549/3502563414.py:3: SettingWithCopyWarning: \n",
      "A value is trying to be set on a copy of a slice from a DataFrame.\n",
      "Try using .loc[row_indexer,col_indexer] = value instead\n",
      "\n",
      "See the caveats in the documentation: https://pandas.pydata.org/pandas-docs/stable/user_guide/indexing.html#returning-a-view-versus-a-copy\n",
      "  df['holistic_score_adjudicated'] = df['holistic_score_adjudicated'].astype(float)\n",
      "/tmp/ipykernel_4549/3502563414.py:3: SettingWithCopyWarning: \n",
      "A value is trying to be set on a copy of a slice from a DataFrame.\n",
      "Try using .loc[row_indexer,col_indexer] = value instead\n",
      "\n",
      "See the caveats in the documentation: https://pandas.pydata.org/pandas-docs/stable/user_guide/indexing.html#returning-a-view-versus-a-copy\n",
      "  df['holistic_score_adjudicated'] = df['holistic_score_adjudicated'].astype(float)\n",
      "/tmp/ipykernel_4549/3502563414.py:3: SettingWithCopyWarning: \n",
      "A value is trying to be set on a copy of a slice from a DataFrame.\n",
      "Try using .loc[row_indexer,col_indexer] = value instead\n",
      "\n",
      "See the caveats in the documentation: https://pandas.pydata.org/pandas-docs/stable/user_guide/indexing.html#returning-a-view-versus-a-copy\n",
      "  df['holistic_score_adjudicated'] = df['holistic_score_adjudicated'].astype(float)\n"
     ]
    }
   ],
   "source": [
    "w_ds = buildDataset(white_sample)\n",
    "baa_ds = buildDataset(baa_sample)\n",
    "hl_ds = buildDataset(hl_sample)\n",
    "control_ds = buildDataset(control_sample)"
   ]
  },
  {
   "cell_type": "markdown",
   "id": "0e5030f5-ca0e-4cc0-8bc5-3e138b4543f4",
   "metadata": {},
   "source": [
    "## Save everything to file"
   ]
  },
  {
   "cell_type": "code",
   "execution_count": 19,
   "id": "92c757b7-bd6e-4861-9228-c4c83c4ba467",
   "metadata": {
    "tags": []
   },
   "outputs": [
    {
     "data": {
      "text/html": [
       "<div>\n",
       "<style scoped>\n",
       "    .dataframe tbody tr th:only-of-type {\n",
       "        vertical-align: middle;\n",
       "    }\n",
       "\n",
       "    .dataframe tbody tr th {\n",
       "        vertical-align: top;\n",
       "    }\n",
       "\n",
       "    .dataframe thead th {\n",
       "        text-align: right;\n",
       "    }\n",
       "</style>\n",
       "<table border=\"1\" class=\"dataframe\">\n",
       "  <thead>\n",
       "    <tr style=\"text-align: right;\">\n",
       "      <th></th>\n",
       "      <th>essay_id</th>\n",
       "      <th>holistic_score_1</th>\n",
       "      <th>holistic_score_2</th>\n",
       "      <th>holistic_score_adjudicated</th>\n",
       "      <th>full_text</th>\n",
       "      <th>source</th>\n",
       "      <th>source_text</th>\n",
       "      <th>prompt_name</th>\n",
       "      <th>task</th>\n",
       "      <th>assignment</th>\n",
       "      <th>gender</th>\n",
       "      <th>grade</th>\n",
       "      <th>ell</th>\n",
       "      <th>race_ethnicity</th>\n",
       "      <th>economically_disadvantaged</th>\n",
       "      <th>student_disability_status</th>\n",
       "      <th>condition</th>\n",
       "    </tr>\n",
       "  </thead>\n",
       "  <tbody>\n",
       "    <tr>\n",
       "      <th>136345</th>\n",
       "      <td>AAAOPP13416000019618</td>\n",
       "      <td>3</td>\n",
       "      <td>3</td>\n",
       "      <td>3</td>\n",
       "      <td>Have you ever wondered if the face on Mars was...</td>\n",
       "      <td>Indiana</td>\n",
       "      <td>\"Unmasking the Face on Mars\"</td>\n",
       "      <td>The Face on Mars</td>\n",
       "      <td>Text dependent</td>\n",
       "      <td>You have read the article 'Unmasking the Face ...</td>\n",
       "      <td>M</td>\n",
       "      <td>8</td>\n",
       "      <td>No</td>\n",
       "      <td>White</td>\n",
       "      <td>Not economically disadvantaged</td>\n",
       "      <td>Not identified as having disability</td>\n",
       "      <td>test_w</td>\n",
       "    </tr>\n",
       "    <tr>\n",
       "      <th>251900</th>\n",
       "      <td>AAAXMP138200001590842125_OR</td>\n",
       "      <td>4</td>\n",
       "      <td>5</td>\n",
       "      <td>5</td>\n",
       "      <td>In the 21st century humanity has entered what ...</td>\n",
       "      <td>Virginia</td>\n",
       "      <td>NaN</td>\n",
       "      <td>Distance learning</td>\n",
       "      <td>Independent</td>\n",
       "      <td>Some schools offer distance learning as an opt...</td>\n",
       "      <td>M</td>\n",
       "      <td>11</td>\n",
       "      <td>No</td>\n",
       "      <td>White</td>\n",
       "      <td>Not economically disadvantaged</td>\n",
       "      <td>Not identified as having disability</td>\n",
       "      <td>test_w</td>\n",
       "    </tr>\n",
       "    <tr>\n",
       "      <th>97053</th>\n",
       "      <td>AAAVUP14319000075672</td>\n",
       "      <td>2</td>\n",
       "      <td>3</td>\n",
       "      <td>2</td>\n",
       "      <td>The author supports the suggestion that studyi...</td>\n",
       "      <td>Indiana</td>\n",
       "      <td>\"The Challenge of Exploring Venus\"</td>\n",
       "      <td>Exploring Venus</td>\n",
       "      <td>Text dependent</td>\n",
       "      <td>In \"The Challenge of Exploring Venus,\" the aut...</td>\n",
       "      <td>M</td>\n",
       "      <td>10</td>\n",
       "      <td>No</td>\n",
       "      <td>White</td>\n",
       "      <td>Economically disadvantaged</td>\n",
       "      <td>Not identified as having disability</td>\n",
       "      <td>test_w</td>\n",
       "    </tr>\n",
       "    <tr>\n",
       "      <th>169024</th>\n",
       "      <td>2171006195</td>\n",
       "      <td>4</td>\n",
       "      <td>3</td>\n",
       "      <td>3</td>\n",
       "      <td>School sports have always been very important,...</td>\n",
       "      <td>NCES</td>\n",
       "      <td>NaN</td>\n",
       "      <td>Grades for extracurricular activities</td>\n",
       "      <td>Independent</td>\n",
       "      <td>Your principal is considering changing school ...</td>\n",
       "      <td>M</td>\n",
       "      <td>8</td>\n",
       "      <td>No</td>\n",
       "      <td>White</td>\n",
       "      <td>Not economically disadvantaged</td>\n",
       "      <td>Not identified as having disability</td>\n",
       "      <td>test_w</td>\n",
       "    </tr>\n",
       "    <tr>\n",
       "      <th>120358</th>\n",
       "      <td>AAATRP14318000643203</td>\n",
       "      <td>2</td>\n",
       "      <td>2</td>\n",
       "      <td>2</td>\n",
       "      <td>i think that it could be used in class rooms s...</td>\n",
       "      <td>Indiana</td>\n",
       "      <td>\"Making Mona Lisa Smile\", by Nick D'Alto</td>\n",
       "      <td>Facial action coding system</td>\n",
       "      <td>Text dependent</td>\n",
       "      <td>In the article \"Making Mona Lisa Smile,\" the a...</td>\n",
       "      <td>M</td>\n",
       "      <td>10</td>\n",
       "      <td>No</td>\n",
       "      <td>White</td>\n",
       "      <td>Economically disadvantaged</td>\n",
       "      <td>Identified as having disability</td>\n",
       "      <td>test_w</td>\n",
       "    </tr>\n",
       "    <tr>\n",
       "      <th>...</th>\n",
       "      <td>...</td>\n",
       "      <td>...</td>\n",
       "      <td>...</td>\n",
       "      <td>...</td>\n",
       "      <td>...</td>\n",
       "      <td>...</td>\n",
       "      <td>...</td>\n",
       "      <td>...</td>\n",
       "      <td>...</td>\n",
       "      <td>...</td>\n",
       "      <td>...</td>\n",
       "      <td>...</td>\n",
       "      <td>...</td>\n",
       "      <td>...</td>\n",
       "      <td>...</td>\n",
       "      <td>...</td>\n",
       "      <td>...</td>\n",
       "    </tr>\n",
       "    <tr>\n",
       "      <th>130384</th>\n",
       "      <td>AAAOPP13416000079387</td>\n",
       "      <td>4</td>\n",
       "      <td>4</td>\n",
       "      <td>4</td>\n",
       "      <td>Unmaskin the Face on Mars\\n\\nHave you seen the...</td>\n",
       "      <td>Indiana</td>\n",
       "      <td>\"Unmasking the Face on Mars\"</td>\n",
       "      <td>The Face on Mars</td>\n",
       "      <td>Text dependent</td>\n",
       "      <td>You have read the article 'Unmasking the Face ...</td>\n",
       "      <td>F</td>\n",
       "      <td>8</td>\n",
       "      <td>No</td>\n",
       "      <td>Hispanic/Latino</td>\n",
       "      <td>Economically disadvantaged</td>\n",
       "      <td>Not identified as having disability</td>\n",
       "      <td>control</td>\n",
       "    </tr>\n",
       "    <tr>\n",
       "      <th>100907</th>\n",
       "      <td>AAAVUP14319000036701</td>\n",
       "      <td>3</td>\n",
       "      <td>3</td>\n",
       "      <td>3</td>\n",
       "      <td>Studying Venus is worthy pursuit despiting the...</td>\n",
       "      <td>Indiana</td>\n",
       "      <td>\"The Challenge of Exploring Venus\"</td>\n",
       "      <td>Exploring Venus</td>\n",
       "      <td>Text dependent</td>\n",
       "      <td>In \"The Challenge of Exploring Venus,\" the aut...</td>\n",
       "      <td>M</td>\n",
       "      <td>10</td>\n",
       "      <td>Yes</td>\n",
       "      <td>Hispanic/Latino</td>\n",
       "      <td>Economically disadvantaged</td>\n",
       "      <td>Not identified as having disability</td>\n",
       "      <td>control</td>\n",
       "    </tr>\n",
       "    <tr>\n",
       "      <th>267695</th>\n",
       "      <td>AAAXMP138200002033152810_OR</td>\n",
       "      <td>3</td>\n",
       "      <td>3</td>\n",
       "      <td>3</td>\n",
       "      <td>When you need advice who do you go to, do you ...</td>\n",
       "      <td>Virginia</td>\n",
       "      <td>NaN</td>\n",
       "      <td>Seeking multiple opinions</td>\n",
       "      <td>Independent</td>\n",
       "      <td>When people ask for advice, they sometimes tal...</td>\n",
       "      <td>M</td>\n",
       "      <td>8</td>\n",
       "      <td>No</td>\n",
       "      <td>Hispanic/Latino</td>\n",
       "      <td>Economically disadvantaged</td>\n",
       "      <td>Not identified as having disability</td>\n",
       "      <td>control</td>\n",
       "    </tr>\n",
       "    <tr>\n",
       "      <th>17286</th>\n",
       "      <td>5075042</td>\n",
       "      <td>1</td>\n",
       "      <td>1</td>\n",
       "      <td>1</td>\n",
       "      <td>Driver good is very important for all people. ...</td>\n",
       "      <td>Florida</td>\n",
       "      <td>Source 1: \"In German Suburb, Life Goes On With...</td>\n",
       "      <td>Car-free cities</td>\n",
       "      <td>Text dependent</td>\n",
       "      <td>Write an explanatory essay to inform fellow ci...</td>\n",
       "      <td>M</td>\n",
       "      <td>10</td>\n",
       "      <td>Yes</td>\n",
       "      <td>Hispanic/Latino</td>\n",
       "      <td>NaN</td>\n",
       "      <td>Not identified as having disability</td>\n",
       "      <td>control</td>\n",
       "    </tr>\n",
       "    <tr>\n",
       "      <th>21730</th>\n",
       "      <td>5030022</td>\n",
       "      <td>5</td>\n",
       "      <td>5</td>\n",
       "      <td>5</td>\n",
       "      <td>In order to inform the fellow citizens about t...</td>\n",
       "      <td>Florida</td>\n",
       "      <td>Source 1: \"In German Suburb, Life Goes On With...</td>\n",
       "      <td>Car-free cities</td>\n",
       "      <td>Text dependent</td>\n",
       "      <td>Write an explanatory essay to inform fellow ci...</td>\n",
       "      <td>F</td>\n",
       "      <td>10</td>\n",
       "      <td>No</td>\n",
       "      <td>Hispanic/Latino</td>\n",
       "      <td>NaN</td>\n",
       "      <td>Not identified as having disability</td>\n",
       "      <td>control</td>\n",
       "    </tr>\n",
       "  </tbody>\n",
       "</table>\n",
       "<p>15999 rows × 17 columns</p>\n",
       "</div>"
      ],
      "text/plain": [
       "                           essay_id  holistic_score_1  holistic_score_2  \\\n",
       "136345         AAAOPP13416000019618                 3                 3   \n",
       "251900  AAAXMP138200001590842125_OR                 4                 5   \n",
       "97053          AAAVUP14319000075672                 2                 3   \n",
       "169024                   2171006195                 4                 3   \n",
       "120358         AAATRP14318000643203                 2                 2   \n",
       "...                             ...               ...               ...   \n",
       "130384         AAAOPP13416000079387                 4                 4   \n",
       "100907         AAAVUP14319000036701                 3                 3   \n",
       "267695  AAAXMP138200002033152810_OR                 3                 3   \n",
       "17286                       5075042                 1                 1   \n",
       "21730                       5030022                 5                 5   \n",
       "\n",
       "        holistic_score_adjudicated  \\\n",
       "136345                           3   \n",
       "251900                           5   \n",
       "97053                            2   \n",
       "169024                           3   \n",
       "120358                           2   \n",
       "...                            ...   \n",
       "130384                           4   \n",
       "100907                           3   \n",
       "267695                           3   \n",
       "17286                            1   \n",
       "21730                            5   \n",
       "\n",
       "                                                full_text    source  \\\n",
       "136345  Have you ever wondered if the face on Mars was...   Indiana   \n",
       "251900  In the 21st century humanity has entered what ...  Virginia   \n",
       "97053   The author supports the suggestion that studyi...   Indiana   \n",
       "169024  School sports have always been very important,...      NCES   \n",
       "120358  i think that it could be used in class rooms s...   Indiana   \n",
       "...                                                   ...       ...   \n",
       "130384  Unmaskin the Face on Mars\\n\\nHave you seen the...   Indiana   \n",
       "100907  Studying Venus is worthy pursuit despiting the...   Indiana   \n",
       "267695  When you need advice who do you go to, do you ...  Virginia   \n",
       "17286   Driver good is very important for all people. ...   Florida   \n",
       "21730   In order to inform the fellow citizens about t...   Florida   \n",
       "\n",
       "                                              source_text  \\\n",
       "136345                       \"Unmasking the Face on Mars\"   \n",
       "251900                                                NaN   \n",
       "97053                  \"The Challenge of Exploring Venus\"   \n",
       "169024                                                NaN   \n",
       "120358           \"Making Mona Lisa Smile\", by Nick D'Alto   \n",
       "...                                                   ...   \n",
       "130384                       \"Unmasking the Face on Mars\"   \n",
       "100907                 \"The Challenge of Exploring Venus\"   \n",
       "267695                                                NaN   \n",
       "17286   Source 1: \"In German Suburb, Life Goes On With...   \n",
       "21730   Source 1: \"In German Suburb, Life Goes On With...   \n",
       "\n",
       "                                  prompt_name            task  \\\n",
       "136345                       The Face on Mars  Text dependent   \n",
       "251900                      Distance learning     Independent   \n",
       "97053                         Exploring Venus  Text dependent   \n",
       "169024  Grades for extracurricular activities     Independent   \n",
       "120358            Facial action coding system  Text dependent   \n",
       "...                                       ...             ...   \n",
       "130384                       The Face on Mars  Text dependent   \n",
       "100907                        Exploring Venus  Text dependent   \n",
       "267695              Seeking multiple opinions     Independent   \n",
       "17286                         Car-free cities  Text dependent   \n",
       "21730                         Car-free cities  Text dependent   \n",
       "\n",
       "                                               assignment gender  grade  ell  \\\n",
       "136345  You have read the article 'Unmasking the Face ...      M      8   No   \n",
       "251900  Some schools offer distance learning as an opt...      M     11   No   \n",
       "97053   In \"The Challenge of Exploring Venus,\" the aut...      M     10   No   \n",
       "169024  Your principal is considering changing school ...      M      8   No   \n",
       "120358  In the article \"Making Mona Lisa Smile,\" the a...      M     10   No   \n",
       "...                                                   ...    ...    ...  ...   \n",
       "130384  You have read the article 'Unmasking the Face ...      F      8   No   \n",
       "100907  In \"The Challenge of Exploring Venus,\" the aut...      M     10  Yes   \n",
       "267695  When people ask for advice, they sometimes tal...      M      8   No   \n",
       "17286   Write an explanatory essay to inform fellow ci...      M     10  Yes   \n",
       "21730   Write an explanatory essay to inform fellow ci...      F     10   No   \n",
       "\n",
       "         race_ethnicity      economically_disadvantaged  \\\n",
       "136345            White  Not economically disadvantaged   \n",
       "251900            White  Not economically disadvantaged   \n",
       "97053             White      Economically disadvantaged   \n",
       "169024            White  Not economically disadvantaged   \n",
       "120358            White      Economically disadvantaged   \n",
       "...                 ...                             ...   \n",
       "130384  Hispanic/Latino      Economically disadvantaged   \n",
       "100907  Hispanic/Latino      Economically disadvantaged   \n",
       "267695  Hispanic/Latino      Economically disadvantaged   \n",
       "17286   Hispanic/Latino                             NaN   \n",
       "21730   Hispanic/Latino                             NaN   \n",
       "\n",
       "                  student_disability_status condition  \n",
       "136345  Not identified as having disability    test_w  \n",
       "251900  Not identified as having disability    test_w  \n",
       "97053   Not identified as having disability    test_w  \n",
       "169024  Not identified as having disability    test_w  \n",
       "120358      Identified as having disability    test_w  \n",
       "...                                     ...       ...  \n",
       "130384  Not identified as having disability   control  \n",
       "100907  Not identified as having disability   control  \n",
       "267695  Not identified as having disability   control  \n",
       "17286   Not identified as having disability   control  \n",
       "21730   Not identified as having disability   control  \n",
       "\n",
       "[15999 rows x 17 columns]"
      ]
     },
     "execution_count": 19,
     "metadata": {},
     "output_type": "execute_result"
    }
   ],
   "source": [
    "white_sample['condition'] = 'test_w'\n",
    "baa_sample['condition'] = 'test_baa'\n",
    "hl_sample['condition'] = 'test_hl'\n",
    "control_sample['condition'] = 'control'\n",
    "\n",
    "\n",
    "train_df = pd.concat([white_sample, baa_sample, hl_sample, control_sample], axis= 0)\n",
    "train_df"
   ]
  },
  {
   "cell_type": "code",
   "execution_count": 20,
   "id": "66d49353-e1c6-4121-a666-0851ed63c7b0",
   "metadata": {
    "tags": []
   },
   "outputs": [
    {
     "data": {
      "application/vnd.jupyter.widget-view+json": {
       "model_id": "da6bddd6c8ac4d0e88d2f476e44f8547",
       "version_major": 2,
       "version_minor": 0
      },
      "text/plain": [
       "Flattening the indices:   0%|          | 0/4 [00:00<?, ?ba/s]"
      ]
     },
     "metadata": {},
     "output_type": "display_data"
    },
    {
     "data": {
      "application/vnd.jupyter.widget-view+json": {
       "model_id": "a49a6524e82c4ea3b89f636658d6580c",
       "version_major": 2,
       "version_minor": 0
      },
      "text/plain": [
       "Saving the dataset (0/1 shards):   0%|          | 0/3200 [00:00<?, ? examples/s]"
      ]
     },
     "metadata": {},
     "output_type": "display_data"
    },
    {
     "data": {
      "application/vnd.jupyter.widget-view+json": {
       "model_id": "ef2b45dca9c848aeb21d54fbb0420a79",
       "version_major": 2,
       "version_minor": 0
      },
      "text/plain": [
       "Flattening the indices:   0%|          | 0/1 [00:00<?, ?ba/s]"
      ]
     },
     "metadata": {},
     "output_type": "display_data"
    },
    {
     "data": {
      "application/vnd.jupyter.widget-view+json": {
       "model_id": "2f8e33f231184214a0714cae35ba50da",
       "version_major": 2,
       "version_minor": 0
      },
      "text/plain": [
       "Saving the dataset (0/1 shards):   0%|          | 0/800 [00:00<?, ? examples/s]"
      ]
     },
     "metadata": {},
     "output_type": "display_data"
    },
    {
     "data": {
      "application/vnd.jupyter.widget-view+json": {
       "model_id": "ad34e3b1a44847cda216656c5a246a38",
       "version_major": 2,
       "version_minor": 0
      },
      "text/plain": [
       "Flattening the indices:   0%|          | 0/4 [00:00<?, ?ba/s]"
      ]
     },
     "metadata": {},
     "output_type": "display_data"
    },
    {
     "data": {
      "application/vnd.jupyter.widget-view+json": {
       "model_id": "466a0f5f76a24366ad2843e837cf3344",
       "version_major": 2,
       "version_minor": 0
      },
      "text/plain": [
       "Saving the dataset (0/1 shards):   0%|          | 0/3200 [00:00<?, ? examples/s]"
      ]
     },
     "metadata": {},
     "output_type": "display_data"
    },
    {
     "data": {
      "application/vnd.jupyter.widget-view+json": {
       "model_id": "45717e13b016475f9244174157cefbd5",
       "version_major": 2,
       "version_minor": 0
      },
      "text/plain": [
       "Flattening the indices:   0%|          | 0/1 [00:00<?, ?ba/s]"
      ]
     },
     "metadata": {},
     "output_type": "display_data"
    },
    {
     "data": {
      "application/vnd.jupyter.widget-view+json": {
       "model_id": "37669779e85a4f528ed03aa26d6135eb",
       "version_major": 2,
       "version_minor": 0
      },
      "text/plain": [
       "Saving the dataset (0/1 shards):   0%|          | 0/800 [00:00<?, ? examples/s]"
      ]
     },
     "metadata": {},
     "output_type": "display_data"
    },
    {
     "data": {
      "application/vnd.jupyter.widget-view+json": {
       "model_id": "2ec5468eabc745a5ba36a392b4757f41",
       "version_major": 2,
       "version_minor": 0
      },
      "text/plain": [
       "Flattening the indices:   0%|          | 0/4 [00:00<?, ?ba/s]"
      ]
     },
     "metadata": {},
     "output_type": "display_data"
    },
    {
     "data": {
      "application/vnd.jupyter.widget-view+json": {
       "model_id": "6367aabf46b04943a788d58ea6149b29",
       "version_major": 2,
       "version_minor": 0
      },
      "text/plain": [
       "Saving the dataset (0/1 shards):   0%|          | 0/3200 [00:00<?, ? examples/s]"
      ]
     },
     "metadata": {},
     "output_type": "display_data"
    },
    {
     "data": {
      "application/vnd.jupyter.widget-view+json": {
       "model_id": "bd073ca975ef4d929feb8eb77d7a972a",
       "version_major": 2,
       "version_minor": 0
      },
      "text/plain": [
       "Flattening the indices:   0%|          | 0/1 [00:00<?, ?ba/s]"
      ]
     },
     "metadata": {},
     "output_type": "display_data"
    },
    {
     "data": {
      "application/vnd.jupyter.widget-view+json": {
       "model_id": "e9c28c3c87ee4e1e8deed036fc3372be",
       "version_major": 2,
       "version_minor": 0
      },
      "text/plain": [
       "Saving the dataset (0/1 shards):   0%|          | 0/800 [00:00<?, ? examples/s]"
      ]
     },
     "metadata": {},
     "output_type": "display_data"
    },
    {
     "data": {
      "application/vnd.jupyter.widget-view+json": {
       "model_id": "a793d92ff17a4a168a93977ba3ca421c",
       "version_major": 2,
       "version_minor": 0
      },
      "text/plain": [
       "Flattening the indices:   0%|          | 0/4 [00:00<?, ?ba/s]"
      ]
     },
     "metadata": {},
     "output_type": "display_data"
    },
    {
     "data": {
      "application/vnd.jupyter.widget-view+json": {
       "model_id": "d573f56d22d748269d1cf77047e1bd9f",
       "version_major": 2,
       "version_minor": 0
      },
      "text/plain": [
       "Saving the dataset (0/1 shards):   0%|          | 0/3199 [00:00<?, ? examples/s]"
      ]
     },
     "metadata": {},
     "output_type": "display_data"
    },
    {
     "data": {
      "application/vnd.jupyter.widget-view+json": {
       "model_id": "460ab9547b55416eadf5fbd1f6d0e539",
       "version_major": 2,
       "version_minor": 0
      },
      "text/plain": [
       "Flattening the indices:   0%|          | 0/1 [00:00<?, ?ba/s]"
      ]
     },
     "metadata": {},
     "output_type": "display_data"
    },
    {
     "data": {
      "application/vnd.jupyter.widget-view+json": {
       "model_id": "5deeb4c7ea484a659754780eb9c0b3eb",
       "version_major": 2,
       "version_minor": 0
      },
      "text/plain": [
       "Saving the dataset (0/1 shards):   0%|          | 0/800 [00:00<?, ? examples/s]"
      ]
     },
     "metadata": {},
     "output_type": "display_data"
    }
   ],
   "source": [
    "w_ds.save_to_disk(DATA + \"w_ds.hf\")\n",
    "baa_ds.save_to_disk(DATA + \"baa_ds.hf\")\n",
    "hl_ds.save_to_disk(DATA + \"hl_ds.hf\")\n",
    "control_ds.save_to_disk(DATA + \"control_ds.hf\")\n",
    "test_df.to_csv(DATA + \"test_df.csv\")\n",
    "train_df.to_csv(DATA + \"train_df.csv\")"
   ]
  },
  {
   "cell_type": "code",
   "execution_count": null,
   "id": "dc7bd672-755b-41a3-885f-385e7f310751",
   "metadata": {},
   "outputs": [],
   "source": []
  },
  {
   "cell_type": "code",
   "execution_count": 18,
   "id": "0c0fc3a5-48ff-4b1b-818e-f1e2117320c8",
   "metadata": {
    "tags": []
   },
   "outputs": [
    {
     "data": {
      "text/plain": [
       "DatasetDict({\n",
       "    train: Dataset({\n",
       "        features: ['text', 'label'],\n",
       "        num_rows: 3200\n",
       "    })\n",
       "    valid: Dataset({\n",
       "        features: ['text', 'label'],\n",
       "        num_rows: 800\n",
       "    })\n",
       "})"
      ]
     },
     "execution_count": 18,
     "metadata": {},
     "output_type": "execute_result"
    }
   ],
   "source": []
  },
  {
   "cell_type": "code",
   "execution_count": null,
   "id": "4963e612-bf9b-46e4-bdbf-da9fa0bc8973",
   "metadata": {},
   "outputs": [],
   "source": []
  },
  {
   "cell_type": "code",
   "execution_count": null,
   "id": "026eae99-52c1-4d60-bb54-813c98378c3f",
   "metadata": {},
   "outputs": [],
   "source": []
  },
  {
   "cell_type": "code",
   "execution_count": null,
   "id": "2a15dc14-769e-42e3-bc19-a2298c7d47c4",
   "metadata": {},
   "outputs": [],
   "source": []
  }
 ],
 "metadata": {
  "kernelspec": {
   "display_name": "Python [conda env:root] *",
   "language": "python",
   "name": "conda-root-py"
  },
  "language_info": {
   "codemirror_mode": {
    "name": "ipython",
    "version": 3
   },
   "file_extension": ".py",
   "mimetype": "text/x-python",
   "name": "python",
   "nbconvert_exporter": "python",
   "pygments_lexer": "ipython3",
   "version": "3.10.9"
  }
 },
 "nbformat": 4,
 "nbformat_minor": 5
}
