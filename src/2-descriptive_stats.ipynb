{
 "cells": [
  {
   "cell_type": "code",
   "execution_count": 1,
   "id": "fb60d90d-9388-464d-aee6-d5339553127a",
   "metadata": {
    "tags": []
   },
   "outputs": [],
   "source": [
    "import pandas as pd\n",
    "import seaborn as sns\n",
    "from matplotlib import pyplot as plt"
   ]
  },
  {
   "cell_type": "code",
   "execution_count": 2,
   "id": "0c149651-c401-417a-abff-21375cb2611e",
   "metadata": {
    "tags": []
   },
   "outputs": [],
   "source": [
    "DATA = \"../data/\""
   ]
  },
  {
   "cell_type": "code",
   "execution_count": 3,
   "id": "f47da70d-46c0-4806-9f55-4eb1bc8cd95e",
   "metadata": {
    "tags": []
   },
   "outputs": [],
   "source": [
    "test_df = pd.read_csv(DATA + \"test_df.csv\", index_col=0).fillna(\" \")\n",
    "train_df = pd.read_csv(DATA + \"train_df.csv\", index_col=0).fillna(\" \")"
   ]
  },
  {
   "cell_type": "code",
   "execution_count": 4,
   "id": "d896559d-495e-4605-98ea-0faefcc591da",
   "metadata": {
    "tags": []
   },
   "outputs": [
    {
     "data": {
      "text/plain": [
       "test_w      4000\n",
       "test_baa    4000\n",
       "test_hl     4000\n",
       "control     3999\n",
       "Name: condition, dtype: int64"
      ]
     },
     "execution_count": 4,
     "metadata": {},
     "output_type": "execute_result"
    }
   ],
   "source": [
    "train_df[\"condition\"].value_counts()"
   ]
  },
  {
   "cell_type": "code",
   "execution_count": 7,
   "id": "92870063-a070-4889-8ec2-3fc09c8b720e",
   "metadata": {
    "tags": []
   },
   "outputs": [
    {
     "name": "stdout",
     "output_type": "stream",
     "text": [
      "Text dependent,2056,2.82,1.03\n",
      "Independent,1943,3.59,1.09\n",
      "total,3999,3.19,1.13\n",
      "F,2049,3.31,1.12\n",
      "M,1950,3.07,1.12\n",
      "total,3999,3.19,1.13\n",
      "10,1410,2.96,1.07\n",
      "8,1361,3.13,0.99\n",
      "11,496,4.42,0.91\n",
      "9,338,2.96,1.11\n",
      "12,186,3.58,0.91\n",
      "6,208,2.34,0.75\n",
      "total,3999,3.19,1.13\n",
      "No,3305,3.22,1.13\n",
      " ,267,3.74,0.9\n",
      "Yes,427,2.68,0.98\n",
      "total,3999,3.19,1.13\n",
      "White,1333,3.44,1.14\n",
      "Black/African American,1333,3.1,1.1\n",
      "Hispanic/Latino,1333,3.04,1.09\n",
      "total,3999,3.19,1.13\n",
      " ,923,3.22,1.09\n",
      "Economically disadvantaged,1671,2.89,1.02\n",
      "Not economically disadvantaged,1405,3.53,1.17\n",
      "total,3999,3.19,1.13\n",
      "Not identified as having disability,3207,3.22,1.12\n",
      "Identified as having disability,547,2.75,1.13\n",
      " ,245,3.82,0.85\n",
      "total,3999,3.19,1.13\n"
     ]
    }
   ],
   "source": [
    "# This is a function to output descriptive data in csv format. It takes a single variable and outputs n, mean, and sd\n",
    "variable_list = [\n",
    "    \"task\",\n",
    "    \"gender\",\n",
    "    \"grade\",\n",
    "    \"ell\",\n",
    "    \"race_ethnicity\",\n",
    "    \"economically_disadvantaged\",\n",
    "    \"student_disability_status\",\n",
    "]\n",
    "\n",
    "\n",
    "def descriptive(df, metavariable):\n",
    "    variables = pd.Series(df[metavariable].unique()).dropna()\n",
    "    for variable in variables:\n",
    "        var_list = []\n",
    "        average = df[df[metavariable] == variable][\"holistic_score_adjudicated\"]\n",
    "        print(\n",
    "            str(variable)\n",
    "            + \",\"\n",
    "            + str(len(average))\n",
    "            + \",\"\n",
    "            + str(round(average.mean(), 2))\n",
    "            + \",\"\n",
    "            + str(round(average.std(), 2))\n",
    "        )\n",
    "    print(\n",
    "        \"total\"\n",
    "        + \",\"\n",
    "        + str(len(df))\n",
    "        + \",\"\n",
    "        + str(round(df[\"holistic_score_adjudicated\"].mean(), 2))\n",
    "        + \",\"\n",
    "        + str(round(df[\"holistic_score_adjudicated\"].std(), 2))\n",
    "    )\n",
    "\n",
    "\n",
    "for i in variable_list:\n",
    "    descriptive(train_df[train_df[\"condition\"] == \"control\"], i)"
   ]
  },
  {
   "cell_type": "code",
   "execution_count": 7,
   "id": "7288762b-c45d-4678-9ab5-93b8e33fe164",
   "metadata": {
    "tags": []
   },
   "outputs": [],
   "source": [
    "test_df[\"word_count\"] = test_df[\"full_text\"].apply(lambda x: len(x.split()))\n",
    "train_df[\"word_count\"] = train_df[\"full_text\"].apply(lambda x: len(x.split()))"
   ]
  },
  {
   "cell_type": "code",
   "execution_count": 10,
   "id": "2d333c73-e767-488a-9f3d-b902749f5ece",
   "metadata": {},
   "outputs": [],
   "source": [
    "def word_counts(df):\n",
    "    mean = str(round(df[\"word_count\"].mean(), 2))\n",
    "    sd = str(round(df[\"word_count\"].std(), 2))\n",
    "    mini = str(round(df[\"word_count\"].min(), 2))\n",
    "    maxi = str(round(df[\"word_count\"].max(), 2))\n",
    "    print(mean + \",\" + sd + \",\" + mini + \",\" + maxi)"
   ]
  },
  {
   "cell_type": "code",
   "execution_count": 11,
   "id": "33bb0e41-a796-420f-93db-3737324a471e",
   "metadata": {
    "tags": []
   },
   "outputs": [
    {
     "name": "stdout",
     "output_type": "stream",
     "text": [
      "427.6,199.61,143,1656\n"
     ]
    }
   ],
   "source": [
    "word_counts(test_df)"
   ]
  },
  {
   "cell_type": "code",
   "execution_count": 23,
   "id": "ce51a53b-429e-49b5-a1db-56969f5591c3",
   "metadata": {},
   "outputs": [
    {
     "data": {
      "text/plain": [
       "Text(0.5, 1.0, 'Average Scores of the Four Training Sets')"
      ]
     },
     "execution_count": 23,
     "metadata": {},
     "output_type": "execute_result"
    },
    {
     "data": {
      "image/png": "[encoded data removed]",
      "text/plain": [
       "<Figure size 640x480 with 1 Axes>"
      ]
     },
     "metadata": {},
     "output_type": "display_data"
    }
   ],
   "source": [
    "g = sns.barplot(data=train_df, x=\"condition\", y=\"holistic_score_adjudicated\")\n",
    "g.set(ylim=(2, 4))\n",
    "plt.ylabel(\"Average Holistic Score\")\n",
    "plt.xlabel(\"Training Set\")\n",
    "plt.title(\"Average Scores of the Four Training Sets\")"
   ]
  },
  {
   "cell_type": "code",
   "execution_count": 16,
   "id": "ed3d3bc0-d92c-499a-a32e-b375ce153f2d",
   "metadata": {
    "tags": []
   },
   "outputs": [
    {
     "name": "stdout",
     "output_type": "stream",
     "text": [
      "test_w\n",
      "420.29,185.7,150,1235\n",
      "None\n",
      "test_baa\n",
      "385.88,180.21,152,1650\n",
      "None\n",
      "test_hl\n",
      "387.1,177.65,151,1430\n",
      "None\n",
      "control\n",
      "399.28,180.78,151,1650\n",
      "None\n"
     ]
    }
   ],
   "source": [
    "for i in train_df[\"condition\"].drop_duplicates():\n",
    "    print(i)\n",
    "    print(word_counts(train_df[train_df[\"condition\"] == i]))"
   ]
  },
  {
   "cell_type": "code",
   "execution_count": 24,
   "id": "e706d307-138e-4d0a-a850-609106b4c9cb",
   "metadata": {},
   "outputs": [
    {
     "data": {
      "text/plain": [
       "6"
      ]
     },
     "execution_count": 24,
     "metadata": {},
     "output_type": "execute_result"
    }
   ],
   "source": [
    "train_df[\"holistic_score_adjudicated\"].max()"
   ]
  }
 ],
 "metadata": {
  "kernelspec": {
   "display_name": "Python [conda env:base] *",
   "language": "python",
   "name": "conda-base-py"
  },
  "language_info": {
   "codemirror_mode": {
    "name": "ipython",
    "version": 3
   },
   "file_extension": ".py",
   "mimetype": "text/x-python",
   "name": "python",
   "nbconvert_exporter": "python",
   "pygments_lexer": "ipython3",
   "version": "3.11.6"
  }
 },
 "nbformat": 4,
 "nbformat_minor": 5
}
