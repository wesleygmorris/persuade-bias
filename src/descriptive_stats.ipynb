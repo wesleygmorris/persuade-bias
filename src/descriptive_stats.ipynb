{
 "cells": [
  {
   "cell_type": "code",
   "execution_count": 2,
   "id": "fb60d90d-9388-464d-aee6-d5339553127a",
   "metadata": {
    "tags": []
   },
   "outputs": [],
   "source": [
    "import pandas as pd\n",
    "import seaborn as sns\n",
    "from matplotlib import pyplot as plt"
   ]
  },
  {
   "cell_type": "code",
   "execution_count": 3,
   "id": "0c149651-c401-417a-abff-21375cb2611e",
   "metadata": {
    "tags": []
   },
   "outputs": [],
   "source": [
    "DATA = '../data/'"
   ]
  },
  {
   "cell_type": "code",
   "execution_count": 4,
   "id": "f47da70d-46c0-4806-9f55-4eb1bc8cd95e",
   "metadata": {
    "tags": []
   },
   "outputs": [],
   "source": [
    "test_df = pd.read_csv(DATA+'test_df.csv', index_col=0).fillna(' ')\n",
    "train_df = pd.read_csv(DATA+'train_df.csv', index_col=0).fillna(' ')\n"
   ]
  },
  {
   "cell_type": "code",
   "execution_count": 5,
   "id": "d896559d-495e-4605-98ea-0faefcc591da",
   "metadata": {
    "tags": []
   },
   "outputs": [
    {
     "data": {
      "text/plain": [
       "test_w      4000\n",
       "test_baa    4000\n",
       "test_hl     4000\n",
       "control     3999\n",
       "Name: condition, dtype: int64"
      ]
     },
     "execution_count": 5,
     "metadata": {},
     "output_type": "execute_result"
    }
   ],
   "source": [
    "train_df['condition'].value_counts()"
   ]
  },
  {
   "cell_type": "code",
   "execution_count": 42,
   "id": "92870063-a070-4889-8ec2-3fc09c8b720e",
   "metadata": {
    "tags": []
   },
   "outputs": [
    {
     "name": "stdout",
     "output_type": "stream",
     "text": [
      "Independent,2590,3.81,1.17\n",
      "Text dependent,2205,2.93,1.08\n",
      "total,4795,3.41,1.21\n",
      "M,2392,3.29,1.2\n",
      "F,2403,3.52,1.21\n",
      "total,4795,3.41,1.21\n",
      "8,1761,3.33,1.07\n",
      "10,1548,3.07,1.11\n",
      "11,785,4.6,1.04\n",
      "9,311,3.07,1.16\n",
      "6,226,2.43,0.86\n",
      "12,164,3.6,0.92\n",
      "total,4795,3.41,1.21\n",
      "No,4102,3.46,1.22\n",
      " ,240,3.78,0.91\n",
      "Yes,453,2.7,1.04\n",
      "total,4795,3.41,1.21\n",
      "White,959,3.46,1.15\n",
      "Hispanic/Latino,959,3.1,1.15\n",
      "Black/African American,959,3.1,1.15\n",
      "Asian/Pacific Islander,959,3.91,1.28\n",
      "Two or more races/Other,959,3.45,1.14\n",
      "total,4795,3.41,1.21\n",
      "Not economically disadvantaged,2030,3.82,1.22\n",
      "Economically disadvantaged,1915,3.02,1.11\n",
      " ,850,3.27,1.1\n",
      "total,4795,3.41,1.21\n",
      "Identified as having disability,575,2.84,1.18\n",
      "Not identified as having disability,4001,3.46,1.21\n",
      " ,219,3.88,0.87\n",
      "total,4795,3.41,1.21\n"
     ]
    }
   ],
   "source": [
    "#This is a function to output descriptive data in csv format. It takes a single variable and outputs n, mean, and sd\n",
    "variable_list = ['task', 'gender', 'grade', 'ell',\n",
    "       'race_ethnicity', 'economically_disadvantaged',\n",
    "       'student_disability_status']\n",
    "\n",
    "def descriptive(df, metavariable):\n",
    "    variables = pd.Series(df[metavariable].unique()).dropna()\n",
    "    for variable in variables:\n",
    "        var_list = []\n",
    "        average = df[df[metavariable] == variable][\"holistic_score_adjudicated\"]\n",
    "        print(str(variable) + ',' + str(len(average)) + \",\" + str(round(average.mean(), 2)) + \",\" + str(round(average.std(), 2)))\n",
    "    print('total' + ',' + str(len(df)) + ',' + str(round(df[\"holistic_score_adjudicated\"].mean(),2)) + \n",
    "          ',' + str(round(df[\"holistic_score_adjudicated\"].std(),2)))\n",
    "    \n",
    "for i in variable_list:\n",
    "    descriptive(test_df, i)"
   ]
  },
  {
   "cell_type": "code",
   "execution_count": 7,
   "id": "7288762b-c45d-4678-9ab5-93b8e33fe164",
   "metadata": {
    "tags": []
   },
   "outputs": [],
   "source": [
    "test_df['word_count'] = test_df['full_text'].apply(lambda x: len(x.split()))\n",
    "train_df['word_count'] = train_df['full_text'].apply(lambda x: len(x.split()))"
   ]
  },
  {
   "cell_type": "code",
   "execution_count": 10,
   "id": "2d333c73-e767-488a-9f3d-b902749f5ece",
   "metadata": {},
   "outputs": [],
   "source": [
    "def word_counts(df):\n",
    "    mean = str(round(df['word_count'].mean(),2))\n",
    "    sd = str(round(df['word_count'].std(),2))\n",
    "    mini = str(round(df['word_count'].min(),2))\n",
    "    maxi = str(round(df['word_count'].max(),2))\n",
    "    print(mean+','+sd+','+mini+','+maxi)"
   ]
  },
  {
   "cell_type": "code",
   "execution_count": 11,
   "id": "33bb0e41-a796-420f-93db-3737324a471e",
   "metadata": {
    "tags": []
   },
   "outputs": [
    {
     "name": "stdout",
     "output_type": "stream",
     "text": [
      "427.6,199.61,143,1656\n"
     ]
    }
   ],
   "source": [
    "word_counts(test_df)"
   ]
  },
  {
   "cell_type": "code",
   "execution_count": null,
   "id": "ce51a53b-429e-49b5-a1db-56969f5591c3",
   "metadata": {},
   "outputs": [],
   "source": []
  },
  {
   "cell_type": "code",
   "execution_count": 16,
   "id": "ed3d3bc0-d92c-499a-a32e-b375ce153f2d",
   "metadata": {
    "tags": []
   },
   "outputs": [
    {
     "name": "stdout",
     "output_type": "stream",
     "text": [
      "test_w\n",
      "420.29,185.7,150,1235\n",
      "None\n",
      "test_baa\n",
      "385.88,180.21,152,1650\n",
      "None\n",
      "test_hl\n",
      "387.1,177.65,151,1430\n",
      "None\n",
      "control\n",
      "399.28,180.78,151,1650\n",
      "None\n"
     ]
    }
   ],
   "source": [
    "for i in train_df['condition'].drop_duplicates():\n",
    "    print(i)\n",
    "    print(word_counts(train_df[train_df['condition'] == i]))"
   ]
  },
  {
   "cell_type": "code",
   "execution_count": null,
   "id": "e706d307-138e-4d0a-a850-609106b4c9cb",
   "metadata": {},
   "outputs": [],
   "source": []
  }
 ],
 "metadata": {
  "kernelspec": {
   "display_name": "Python [conda env:wesEnvironment]",
   "language": "python",
   "name": "conda-env-wesEnvironment-py"
  },
  "language_info": {
   "codemirror_mode": {
    "name": "ipython",
    "version": 3
   },
   "file_extension": ".py",
   "mimetype": "text/x-python",
   "name": "python",
   "nbconvert_exporter": "python",
   "pygments_lexer": "ipython3",
   "version": "3.10.9"
  }
 },
 "nbformat": 4,
 "nbformat_minor": 5
}
